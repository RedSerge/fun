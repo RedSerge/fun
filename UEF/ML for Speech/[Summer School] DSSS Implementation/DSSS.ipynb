{
 "cells": [
  {
   "cell_type": "markdown",
   "metadata": {},
   "source": [
    "#   DSSS Method Implementation (by Sergei Popkov)"
   ]
  },
  {
   "cell_type": "markdown",
   "metadata": {},
   "source": [
    "Load neccessary modules. Requirements:\n",
    "\n",
    "1) Anaconda for Python 3 (http://www.anaconda.com);  \n",
    "2) soundfile package (pip install soundfile);  \n",
    "3) librosa package (for spectogram plotting)."
   ]
  },
  {
   "cell_type": "code",
   "execution_count": null,
   "metadata": {},
   "outputs": [],
   "source": [
    "import IPython\n",
    "import soundfile\n",
    "import numpy as np\n",
    "from math import floor\n",
    "import matplotlib.pyplot as plt\n",
    "import librosa\n",
    "from librosa.display import specshow"
   ]
  },
  {
   "cell_type": "markdown",
   "metadata": {},
   "source": [
    "Spectogram plotting function based on the course practice template."
   ]
  },
  {
   "cell_type": "code",
   "execution_count": null,
   "metadata": {},
   "outputs": [],
   "source": [
    "def show_spectrogram(audio_signal, sampling_rate, channel = 0):\n",
    "    # Select one channel in case of stereo signal\n",
    "    if len(audio_signal.shape) > 1:\n",
    "        audio_signal = audio_signal[:, channel]\n",
    "    win_length = int(0.025 * sampling_rate)\n",
    "    hop_length = int(0.01 * sampling_rate)\n",
    "    spectrogram = np.abs(librosa.stft(audio_signal, hop_length=hop_length, win_length=win_length))\n",
    "    # Plotting the spectrogram:\n",
    "    specshow(librosa.amplitude_to_db(spectrogram, ref=np.max), sr=sampling_rate, hop_length=hop_length, y_axis='linear', x_axis='time')\n",
    "    plt.title('Spectrogram')\n",
    "    plt.colorbar(format='%+2.0f dB')\n",
    "    plt.tight_layout()"
   ]
  },
  {
   "cell_type": "markdown",
   "metadata": {},
   "source": [
    "PN generator"
   ]
  },
  {
   "cell_type": "code",
   "execution_count": null,
   "metadata": {},
   "outputs": [],
   "source": [
    "# Generate password-related pseudo-noise (PN)\n",
    "def password_to_PN(passw, length):\n",
    "    \n",
    "    # Password can't be empty and must contain at least 2 characters\n",
    "    if not passw: passw=''\n",
    "    if len(passw)<2: passw=passw.zfill(2)\n",
    "    \n",
    "    # One of the approaches to create the password-related seed for the pseudo-noise sequence generation\n",
    "    p = np.array([ord(c) for c in passw])\n",
    "    s = int(np.sum(p / np.max(p) * range(1, len(p) + 1)) * (10 ** min(len(p), 4)))\n",
    "    \n",
    "    # Generate the pseudo-noise sequence of given length for switching the phase;\n",
    "    # return PN with the corresponding password\n",
    "    rng = np.random.RandomState(s)\n",
    "    return (passw, np.array([1 if r else -1 for r in rng.rand(length, 1) > 0.5]))"
   ]
  },
  {
   "cell_type": "markdown",
   "metadata": {},
   "source": [
    "Global constants (both for encoding and extracting)"
   ]
  },
  {
   "cell_type": "code",
   "execution_count": null,
   "metadata": {},
   "outputs": [],
   "source": [
    "# The minimal segment length\n",
    "L_MIN = 8 * 1024"
   ]
  },
  {
   "cell_type": "markdown",
   "metadata": {},
   "source": [
    "## 1. Encoding message"
   ]
  },
  {
   "cell_type": "markdown",
   "metadata": {},
   "source": [
    "Parameters and constants"
   ]
  },
  {
   "cell_type": "code",
   "execution_count": null,
   "metadata": {},
   "outputs": [],
   "source": [
    "# The carrier file name { <<\"Ambient Wave 45\" by Erokia>> from https://freesound.org/people/Erokia/sounds/482706/ }\n",
    "CARRIER_FILENAME = \"wave45.wav\"\n",
    "\n",
    "# The result file name\n",
    "OUTPUT_FILENAME = \"output.wav\"\n",
    "\n",
    "# The embedding strength (the power of the noise with the message over original content).\n",
    "# The less the value, the less recognizable the noise is, yet the message may be decoded with errors or got lost.\n",
    "ALPHA = 0.029\n",
    "\n",
    "# The message to hide\n",
    "MESSAGE = \"Text to be hidden\"\n",
    "\n",
    "# The password\n",
    "PASSWORD = \"Tricky\"\n",
    "\n",
    "# Lower bound of mixed signal (-1 reverses [\"flips\"] the phase)\n",
    "SMOOTH_LOWER = -1\n",
    "\n",
    "# Upper bound of mixed signal (1 keeps the phase intact)\n",
    "SMOOTH_UPPER = 1\n",
    "\n",
    "#Number of points in the Hanning window (may be interpreted as a length to be smoothed)\n",
    "SMOOTH_HANNING = 256"
   ]
  },
  {
   "cell_type": "code",
   "execution_count": null,
   "metadata": {},
   "outputs": [],
   "source": [
    "# Not necessary for this project to work, but if the sound is not properly loaded by IPython \n",
    "# and this fact irritates you, uncomment and run once (already done for this project):\n",
    "\n",
    "#signal, rate = soundfile.read(CARRIER_FILENAME)\n",
    "#soundfile.write(CARRIER_FILENAME, signal, rate)"
   ]
  },
  {
   "cell_type": "code",
   "execution_count": null,
   "metadata": {},
   "outputs": [],
   "source": [
    "IPython.display.Audio(CARRIER_FILENAME)"
   ]
  },
  {
   "cell_type": "markdown",
   "metadata": {},
   "source": [
    "Load the carrier, check its properties, analyze the message and decide whether it's possible to store the whole message in a carrier."
   ]
  },
  {
   "cell_type": "code",
   "execution_count": null,
   "metadata": {},
   "outputs": [],
   "source": [
    "# Load the audio file data\n",
    "signal, rate = soundfile.read(CARRIER_FILENAME)\n",
    "# Audio length\n",
    "a_len = signal.shape[0]\n",
    "# Transform the message into bits, one byte per symbol (\"letter\")\n",
    "bits=''.join([bin(ord(letter))[2:].zfill(8) for letter in MESSAGE])\n",
    "\n",
    "# Number of bits\n",
    "bits_len = len(bits)\n",
    "# Segment (chip) length (not less than minimal)\n",
    "L = max(L_MIN, floor(a_len / bits_len))\n",
    "# Number of segments\n",
    "N = floor(a_len / L)\n",
    "# Number of segments should be aligned to bits per byte (symbol)\n",
    "N -= N % 8\n",
    "# Break the process in case of error (change the message or the carrier, then)\n",
    "if bits_len > N:\n",
    "    print('Not enough sound length to hide the message.')\n",
    "    exit()\n",
    "# Otherwise, keep received bits aligned with zeros from the right side to form the proper length\n",
    "bits = ''.join((bits,'0' * (N - bits_len)))\n",
    "\n",
    "#Spectrogram\n",
    "show_spectrogram(signal, rate)"
   ]
  },
  {
   "cell_type": "markdown",
   "metadata": {},
   "source": [
    "The signal smoothing: mixing message-related signal with the Hanning window."
   ]
  },
  {
   "cell_type": "code",
   "execution_count": null,
   "metadata": {},
   "outputs": [],
   "source": [
    "# Signal to spread data: each bit is being repeated L times\n",
    "mixer_signal = np.array([int(i) for i in ''.join([i * L for i in bits])])\n",
    "# Convolution of the Hanning window and the transformed signal\n",
    "conv = np.convolve(mixer_signal, np.hanning(SMOOTH_HANNING))\n",
    "# Normalization\n",
    "HannHalf=int(SMOOTH_HANNING / 2)\n",
    "norm = conv[HannHalf : -HannHalf + 1] / max(abs(conv))\n",
    "# Bounds adjusting according to the parameters\n",
    "result_mix = norm * (SMOOTH_UPPER - SMOOTH_LOWER) + SMOOTH_LOWER"
   ]
  },
  {
   "cell_type": "markdown",
   "metadata": {},
   "source": [
    "Pseudo-noise (based on provided password) generation."
   ]
  },
  {
   "cell_type": "code",
   "execution_count": null,
   "metadata": {},
   "outputs": [],
   "source": [
    "# PN\n",
    "actual_password, PN = password_to_PN(PASSWORD, L)\n",
    "# Warning in case of invalid (not suitable for PN generation) password\n",
    "if actual_password != PASSWORD:\n",
    "    print(\"Warning: provided password is not valid, another one has been applied:\", actual_password)\n",
    "# Repeat the sequence for each symbol\n",
    "preprocessed_PN = np.repeat(PN, N)"
   ]
  },
  {
   "cell_type": "markdown",
   "metadata": {},
   "source": [
    "Finally, embed message and store the result into output file."
   ]
  },
  {
   "cell_type": "code",
   "execution_count": null,
   "metadata": {},
   "outputs": [],
   "source": [
    "# We need to modify just one channel, while the carrier itself may be mono or stereo.\n",
    "# It is possible to use parameter \"always_2d = True\" while loading the file, but then its structure would be changed\n",
    "# upon saving, which is suspicious. Thus, it's better to detect it manually.\n",
    "# Also, we use only a part of the signal (N * L, where N is a number of segments, L is a segment length).\n",
    "# Therefore, to properly decode, we need to know password and original message length.\n",
    "\n",
    "# Internally, the sequences in Python are represented as pointers, that's why we can do this ...\n",
    "signal_part = signal[: L * N, 0] if len(signal.shape) > 1 else signal[: L * N]\n",
    "# ...and still modify the original signal, avoiding the code duplication this way.\n",
    "signal_part += ALPHA * result_mix * preprocessed_PN\n",
    "# Store the result.\n",
    "soundfile.write(OUTPUT_FILENAME, signal, rate)\n",
    "# Write the output info necessary to extract the message\n",
    "print(\" File name: \", OUTPUT_FILENAME, \"\\n Message length: \", str(bits_len), \"\\n Password: \", actual_password)"
   ]
  },
  {
   "cell_type": "markdown",
   "metadata": {},
   "source": [
    "## 2. Extracting message"
   ]
  },
  {
   "cell_type": "markdown",
   "metadata": {},
   "source": [
    "This part may be used independently. Here, it is used to check whether the message was properly embedded (in other words, the embedding strength was powerful enough to recover message intact later)."
   ]
  },
  {
   "cell_type": "markdown",
   "metadata": {},
   "source": [
    "Parameters and constants (here, they are equal to certain values already known from the code above)."
   ]
  },
  {
   "cell_type": "code",
   "execution_count": null,
   "metadata": {},
   "outputs": [],
   "source": [
    "# The audio file with encoded message\n",
    "STENO_FILENAME = OUTPUT_FILENAME\n",
    "\n",
    "#The message length\n",
    "MESSAGE_LENGTH = bits_len\n",
    "\n",
    "# The password\n",
    "PASSWORD = actual_password"
   ]
  },
  {
   "cell_type": "markdown",
   "metadata": {},
   "source": [
    "Load the signal for further processing"
   ]
  },
  {
   "cell_type": "code",
   "execution_count": null,
   "metadata": {},
   "outputs": [],
   "source": [
    "IPython.display.Audio(STENO_FILENAME)"
   ]
  },
  {
   "cell_type": "code",
   "execution_count": null,
   "metadata": {},
   "outputs": [],
   "source": [
    "# PN\n",
    "_, PN = password_to_PN(PASSWORD, L)\n",
    "# Repeat the sequence for each symbol\n",
    "preprocessed_PN = np.repeat(PN, N)\n",
    "# Open the file\n",
    "signal, _ = soundfile.read(STENO_FILENAME, always_2d = True)\n",
    "# Segment length (not less than minimal)\n",
    "L = max(L_MIN, floor(a_len / MESSAGE_LENGTH))\n",
    "# Number of segments\n",
    "N = floor(a_len / L)\n",
    "# Number of segments should be aligned to bits per byte (symbol)\n",
    "N -= N % 8\n",
    "\n",
    "#Spectrogram\n",
    "show_spectrogram(signal, rate)"
   ]
  },
  {
   "cell_type": "markdown",
   "metadata": {},
   "source": [
    "Load the bits of text: count the average phase inversion per chip for every encoded bit in regards of the password (represented as a pseudo-noise). Get corresponding bit values as a result."
   ]
  },
  {
   "cell_type": "code",
   "execution_count": null,
   "metadata": {},
   "outputs": [],
   "source": [
    "bits_received=['0' if i < 0 else '1' for i in [sum(signal[L * i: L * (i + 1), 0] * preprocessed_PN[L * i: L * (i + 1)]) / L for i in range(N)]]"
   ]
  },
  {
   "cell_type": "markdown",
   "metadata": {},
   "source": [
    "Perform message extraction."
   ]
  },
  {
   "cell_type": "code",
   "execution_count": null,
   "metadata": {},
   "outputs": [],
   "source": [
    "# This lambda function converts the bit string into proper character (Input: string -> char code -> Output: char)\n",
    "symbol_from_bitseq = lambda y : chr(int(''.join(y), 2))\n",
    "# Perform the transformation by function described above for every byte (8 bits) in the bit sequence\n",
    "decoded_symbols = [symbol_from_bitseq(bits_received[i : i + 8]) for i in range(0, len(bits_received), 8)]\n",
    "# Gather together all symbols (characters) to finally receive the whole message\n",
    "decoded_text = ''.join(decoded_symbols)\n",
    "# Show the result\n",
    "decoded_text"
   ]
  },
  {
   "cell_type": "markdown",
   "metadata": {},
   "source": [
    "## 3. Validation"
   ]
  },
  {
   "cell_type": "markdown",
   "metadata": {},
   "source": [
    "Check if the message is decoded properly; if it is not, show the error."
   ]
  },
  {
   "cell_type": "code",
   "execution_count": null,
   "metadata": {},
   "outputs": [],
   "source": [
    "print(\"\"\"Message is embedded successfully!\n",
    "The result file can be sent to the receiver who knows the code.\"\"\" if (decoded_text == MESSAGE) else \"\"\"Message was not embedded correctly.\n",
    "Try changing the alpha (embedding strength) parameter.\"\"\")"
   ]
  }
 ],
 "metadata": {
  "kernelspec": {
   "display_name": "Python 3",
   "language": "python",
   "name": "python3"
  },
  "language_info": {
   "codemirror_mode": {
    "name": "ipython",
    "version": 3
   },
   "file_extension": ".py",
   "mimetype": "text/x-python",
   "name": "python",
   "nbconvert_exporter": "python",
   "pygments_lexer": "ipython3",
   "version": "3.7.3"
  }
 },
 "nbformat": 4,
 "nbformat_minor": 2
}
